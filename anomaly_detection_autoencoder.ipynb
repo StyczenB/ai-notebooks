{
 "cells": [
  {
   "cell_type": "markdown",
   "metadata": {},
   "source": [
    "# Goal of this notebook is to try to find which data points are anomalies using simple autoencoder architecture."
   ]
  },
  {
   "cell_type": "code",
   "execution_count": 1,
   "metadata": {},
   "outputs": [],
   "source": [
    "import torch\n",
    "import torch.nn as nn\n",
    "import torch.optim as optim\n",
    "import torchvision\n",
    "\n",
    "import numpy as np\n",
    "from scipy.io import loadmat\n",
    "from sklearn.preprocessing import StandardScaler, MinMaxScaler\n",
    "from sklearn.model_selection import train_test_split\n",
    "import matplotlib.pyplot as plt\n",
    "import pandas as pd\n",
    "\n",
    "%matplotlib inline"
   ]
  },
  {
   "cell_type": "markdown",
   "metadata": {},
   "source": [
    "# Load data"
   ]
  },
  {
   "cell_type": "code",
   "execution_count": 2,
   "metadata": {},
   "outputs": [
    {
     "name": "stdout",
     "output_type": "stream",
     "text": [
      "Satellite data not found in directory. Downloading...\n",
      "\n",
      "--2020-03-28 10:33:53--  https://www.dropbox.com/s/dpzxp8jyr9h93k5/satellite.mat\n",
      "Resolving www.dropbox.com (www.dropbox.com)... 2620:100:6027:1::a27d:4801, 162.125.72.1\n",
      "Connecting to www.dropbox.com (www.dropbox.com)|2620:100:6027:1::a27d:4801|:443... connected.\n",
      "HTTP request sent, awaiting response... 301 Moved Permanently\n",
      "Location: /s/raw/dpzxp8jyr9h93k5/satellite.mat [following]\n",
      "--2020-03-28 10:33:53--  https://www.dropbox.com/s/raw/dpzxp8jyr9h93k5/satellite.mat\n",
      "Reusing existing connection to [www.dropbox.com]:443.\n",
      "HTTP request sent, awaiting response... 302 Found\n",
      "Location: https://uc489ab8e3d7cca366c42ba00c7d.dl.dropboxusercontent.com/cd/0/inline/A0yjmnHKo7ypihTMVoIy0eXzOi13Pf4mwMegVxD5rX270sUnzdbuhgSG7SWRL1dE5SjLuDzMHxeiH5XTZYCRhih3sIU7XsE1vE6zjaymncrwnA/file# [following]\n",
      "--2020-03-28 10:33:54--  https://uc489ab8e3d7cca366c42ba00c7d.dl.dropboxusercontent.com/cd/0/inline/A0yjmnHKo7ypihTMVoIy0eXzOi13Pf4mwMegVxD5rX270sUnzdbuhgSG7SWRL1dE5SjLuDzMHxeiH5XTZYCRhih3sIU7XsE1vE6zjaymncrwnA/file\n",
      "Resolving uc489ab8e3d7cca366c42ba00c7d.dl.dropboxusercontent.com (uc489ab8e3d7cca366c42ba00c7d.dl.dropboxusercontent.com)... 2620:100:6026:6::a27d:4606, 162.125.70.6\n",
      "Connecting to uc489ab8e3d7cca366c42ba00c7d.dl.dropboxusercontent.com (uc489ab8e3d7cca366c42ba00c7d.dl.dropboxusercontent.com)|2620:100:6026:6::a27d:4606|:443... connected.\n",
      "HTTP request sent, awaiting response... 302 FOUND\n",
      "Location: /cd/0/inline2/A0zt08SJBRi4euYJRG2JecTitDxQfPViakxLZmTyOvQwfEN8q6zbknr-7FlchemtSAgsrSaQmBf07doVNeoSIrvyP3w7gVsLKRTMFFCL4RvBmimbKoXJadW6-WhmPs1sE6mobjpA6gLLIp7__B3tbVEcjNq8MgC5Hvdq3k2hRbCluKtXEaKlCu6bGBaqwGDTcI96hzpcHlvW5vr5EuXEGZjoCneMJl9M-_LkNX6P9HbnHfiiTNbADY3gVa2Ajxru5Z1aAUz2sFYEA0-HUJbJHrsTfprhw--ZzrSGRywtyiTzVtpLsC3tquuTsaHM_jpCvwaGfYbYBVBCvNTHVzGf5iKO/file [following]\n",
      "--2020-03-28 10:33:55--  https://uc489ab8e3d7cca366c42ba00c7d.dl.dropboxusercontent.com/cd/0/inline2/A0zt08SJBRi4euYJRG2JecTitDxQfPViakxLZmTyOvQwfEN8q6zbknr-7FlchemtSAgsrSaQmBf07doVNeoSIrvyP3w7gVsLKRTMFFCL4RvBmimbKoXJadW6-WhmPs1sE6mobjpA6gLLIp7__B3tbVEcjNq8MgC5Hvdq3k2hRbCluKtXEaKlCu6bGBaqwGDTcI96hzpcHlvW5vr5EuXEGZjoCneMJl9M-_LkNX6P9HbnHfiiTNbADY3gVa2Ajxru5Z1aAUz2sFYEA0-HUJbJHrsTfprhw--ZzrSGRywtyiTzVtpLsC3tquuTsaHM_jpCvwaGfYbYBVBCvNTHVzGf5iKO/file\n",
      "Reusing existing connection to [uc489ab8e3d7cca366c42ba00c7d.dl.dropboxusercontent.com]:443.\n",
      "HTTP request sent, awaiting response... 200 OK\n",
      "Length: 144833 (141K) [application/octet-stream]\n",
      "Saving to: ‘satellite.mat’\n",
      "\n",
      "satellite.mat       100%[===================>] 141,44K   842KB/s    in 0,2s    \n",
      "\n",
      "2020-03-28 10:33:55 (842 KB/s) - ‘satellite.mat’ saved [144833/144833]\n",
      "\n"
     ]
    }
   ],
   "source": [
    "try:\n",
    "    data = loadmat(file_name='satellite.mat')\n",
    "except FileNotFoundError:\n",
    "    print('Satellite data not found in directory. Downloading...\\n')\n",
    "    !wget 'https://www.dropbox.com/s/dpzxp8jyr9h93k5/satellite.mat'\n",
    "    data = loadmat(file_name='satellite.mat')"
   ]
  },
  {
   "cell_type": "code",
   "execution_count": 3,
   "metadata": {},
   "outputs": [],
   "source": [
    "X = data['X']\n",
    "y = data['y']"
   ]
  },
  {
   "cell_type": "code",
   "execution_count": 4,
   "metadata": {},
   "outputs": [],
   "source": [
    "column_names = list(str(x) for x in range(X.shape[1]))\n",
    "column_names.append('anomaly')\n",
    "df = pd.DataFrame(data=np.hstack((X, y)), columns=column_names)"
   ]
  },
  {
   "cell_type": "code",
   "execution_count": 5,
   "metadata": {},
   "outputs": [
    {
     "data": {
      "text/html": [
       "<div>\n",
       "<style scoped>\n",
       "    .dataframe tbody tr th:only-of-type {\n",
       "        vertical-align: middle;\n",
       "    }\n",
       "\n",
       "    .dataframe tbody tr th {\n",
       "        vertical-align: top;\n",
       "    }\n",
       "\n",
       "    .dataframe thead th {\n",
       "        text-align: right;\n",
       "    }\n",
       "</style>\n",
       "<table border=\"1\" class=\"dataframe\">\n",
       "  <thead>\n",
       "    <tr style=\"text-align: right;\">\n",
       "      <th></th>\n",
       "      <th>0</th>\n",
       "      <th>1</th>\n",
       "      <th>2</th>\n",
       "      <th>3</th>\n",
       "      <th>4</th>\n",
       "      <th>5</th>\n",
       "      <th>6</th>\n",
       "      <th>7</th>\n",
       "      <th>8</th>\n",
       "      <th>9</th>\n",
       "      <th>...</th>\n",
       "      <th>27</th>\n",
       "      <th>28</th>\n",
       "      <th>29</th>\n",
       "      <th>30</th>\n",
       "      <th>31</th>\n",
       "      <th>32</th>\n",
       "      <th>33</th>\n",
       "      <th>34</th>\n",
       "      <th>35</th>\n",
       "      <th>anomaly</th>\n",
       "    </tr>\n",
       "  </thead>\n",
       "  <tbody>\n",
       "    <tr>\n",
       "      <th>0</th>\n",
       "      <td>92</td>\n",
       "      <td>115</td>\n",
       "      <td>120</td>\n",
       "      <td>94</td>\n",
       "      <td>84</td>\n",
       "      <td>102</td>\n",
       "      <td>106</td>\n",
       "      <td>79</td>\n",
       "      <td>84</td>\n",
       "      <td>102</td>\n",
       "      <td>...</td>\n",
       "      <td>104</td>\n",
       "      <td>88</td>\n",
       "      <td>121</td>\n",
       "      <td>128</td>\n",
       "      <td>100</td>\n",
       "      <td>84</td>\n",
       "      <td>107</td>\n",
       "      <td>113</td>\n",
       "      <td>87</td>\n",
       "      <td>0</td>\n",
       "    </tr>\n",
       "    <tr>\n",
       "      <th>1</th>\n",
       "      <td>84</td>\n",
       "      <td>102</td>\n",
       "      <td>106</td>\n",
       "      <td>79</td>\n",
       "      <td>84</td>\n",
       "      <td>102</td>\n",
       "      <td>102</td>\n",
       "      <td>83</td>\n",
       "      <td>80</td>\n",
       "      <td>102</td>\n",
       "      <td>...</td>\n",
       "      <td>100</td>\n",
       "      <td>84</td>\n",
       "      <td>107</td>\n",
       "      <td>113</td>\n",
       "      <td>87</td>\n",
       "      <td>84</td>\n",
       "      <td>99</td>\n",
       "      <td>104</td>\n",
       "      <td>79</td>\n",
       "      <td>0</td>\n",
       "    </tr>\n",
       "    <tr>\n",
       "      <th>2</th>\n",
       "      <td>84</td>\n",
       "      <td>102</td>\n",
       "      <td>102</td>\n",
       "      <td>83</td>\n",
       "      <td>80</td>\n",
       "      <td>102</td>\n",
       "      <td>102</td>\n",
       "      <td>79</td>\n",
       "      <td>84</td>\n",
       "      <td>94</td>\n",
       "      <td>...</td>\n",
       "      <td>87</td>\n",
       "      <td>84</td>\n",
       "      <td>99</td>\n",
       "      <td>104</td>\n",
       "      <td>79</td>\n",
       "      <td>84</td>\n",
       "      <td>99</td>\n",
       "      <td>104</td>\n",
       "      <td>79</td>\n",
       "      <td>0</td>\n",
       "    </tr>\n",
       "    <tr>\n",
       "      <th>3</th>\n",
       "      <td>80</td>\n",
       "      <td>102</td>\n",
       "      <td>102</td>\n",
       "      <td>79</td>\n",
       "      <td>84</td>\n",
       "      <td>94</td>\n",
       "      <td>102</td>\n",
       "      <td>79</td>\n",
       "      <td>80</td>\n",
       "      <td>94</td>\n",
       "      <td>...</td>\n",
       "      <td>79</td>\n",
       "      <td>84</td>\n",
       "      <td>99</td>\n",
       "      <td>104</td>\n",
       "      <td>79</td>\n",
       "      <td>84</td>\n",
       "      <td>103</td>\n",
       "      <td>104</td>\n",
       "      <td>79</td>\n",
       "      <td>0</td>\n",
       "    </tr>\n",
       "    <tr>\n",
       "      <th>4</th>\n",
       "      <td>84</td>\n",
       "      <td>94</td>\n",
       "      <td>102</td>\n",
       "      <td>79</td>\n",
       "      <td>80</td>\n",
       "      <td>94</td>\n",
       "      <td>98</td>\n",
       "      <td>76</td>\n",
       "      <td>80</td>\n",
       "      <td>102</td>\n",
       "      <td>...</td>\n",
       "      <td>79</td>\n",
       "      <td>84</td>\n",
       "      <td>103</td>\n",
       "      <td>104</td>\n",
       "      <td>79</td>\n",
       "      <td>79</td>\n",
       "      <td>107</td>\n",
       "      <td>109</td>\n",
       "      <td>87</td>\n",
       "      <td>0</td>\n",
       "    </tr>\n",
       "  </tbody>\n",
       "</table>\n",
       "<p>5 rows × 37 columns</p>\n",
       "</div>"
      ],
      "text/plain": [
       "    0    1    2   3   4    5    6   7   8    9  ...   27  28   29   30   31  \\\n",
       "0  92  115  120  94  84  102  106  79  84  102  ...  104  88  121  128  100   \n",
       "1  84  102  106  79  84  102  102  83  80  102  ...  100  84  107  113   87   \n",
       "2  84  102  102  83  80  102  102  79  84   94  ...   87  84   99  104   79   \n",
       "3  80  102  102  79  84   94  102  79  80   94  ...   79  84   99  104   79   \n",
       "4  84   94  102  79  80   94   98  76  80  102  ...   79  84  103  104   79   \n",
       "\n",
       "   32   33   34  35  anomaly  \n",
       "0  84  107  113  87        0  \n",
       "1  84   99  104  79        0  \n",
       "2  84   99  104  79        0  \n",
       "3  84  103  104  79        0  \n",
       "4  79  107  109  87        0  \n",
       "\n",
       "[5 rows x 37 columns]"
      ]
     },
     "execution_count": 5,
     "metadata": {},
     "output_type": "execute_result"
    }
   ],
   "source": [
    "df.head()"
   ]
  },
  {
   "cell_type": "code",
   "execution_count": 6,
   "metadata": {},
   "outputs": [
    {
     "name": "stdout",
     "output_type": "stream",
     "text": [
      "Number of samples: 6435\n",
      "Number of features: 36\n"
     ]
    }
   ],
   "source": [
    "no_samples =  len(df)\n",
    "no_features = len(df.columns) - 1  # without target column (anomaly or not)\n",
    "\n",
    "print(f'Number of samples: {no_samples}')\n",
    "print(f'Number of features: {no_features}')"
   ]
  },
  {
   "cell_type": "markdown",
   "metadata": {},
   "source": [
    "# Preprocess data (spliting, scaling)"
   ]
  },
  {
   "cell_type": "code",
   "execution_count": 7,
   "metadata": {},
   "outputs": [],
   "source": [
    "scaler = MinMaxScaler()"
   ]
  },
  {
   "cell_type": "code",
   "execution_count": 8,
   "metadata": {},
   "outputs": [],
   "source": [
    "X_scaled = scaler.fit_transform(df[df.columns[:-1]])"
   ]
  },
  {
   "cell_type": "code",
   "execution_count": 9,
   "metadata": {},
   "outputs": [],
   "source": [
    "df_scaled = pd.DataFrame(np.hstack((X_scaled, y)), columns=column_names)"
   ]
  },
  {
   "cell_type": "code",
   "execution_count": 10,
   "metadata": {},
   "outputs": [
    {
     "data": {
      "text/html": [
       "<div>\n",
       "<style scoped>\n",
       "    .dataframe tbody tr th:only-of-type {\n",
       "        vertical-align: middle;\n",
       "    }\n",
       "\n",
       "    .dataframe tbody tr th {\n",
       "        vertical-align: top;\n",
       "    }\n",
       "\n",
       "    .dataframe thead th {\n",
       "        text-align: right;\n",
       "    }\n",
       "</style>\n",
       "<table border=\"1\" class=\"dataframe\">\n",
       "  <thead>\n",
       "    <tr style=\"text-align: right;\">\n",
       "      <th></th>\n",
       "      <th>0</th>\n",
       "      <th>1</th>\n",
       "      <th>2</th>\n",
       "      <th>3</th>\n",
       "      <th>4</th>\n",
       "      <th>5</th>\n",
       "      <th>6</th>\n",
       "      <th>7</th>\n",
       "      <th>8</th>\n",
       "      <th>9</th>\n",
       "      <th>...</th>\n",
       "      <th>27</th>\n",
       "      <th>28</th>\n",
       "      <th>29</th>\n",
       "      <th>30</th>\n",
       "      <th>31</th>\n",
       "      <th>32</th>\n",
       "      <th>33</th>\n",
       "      <th>34</th>\n",
       "      <th>35</th>\n",
       "      <th>anomaly</th>\n",
       "    </tr>\n",
       "  </thead>\n",
       "  <tbody>\n",
       "    <tr>\n",
       "      <th>0</th>\n",
       "      <td>0.815385</td>\n",
       "      <td>0.800000</td>\n",
       "      <td>0.770115</td>\n",
       "      <td>0.504132</td>\n",
       "      <td>0.692308</td>\n",
       "      <td>0.681818</td>\n",
       "      <td>0.589474</td>\n",
       "      <td>0.390625</td>\n",
       "      <td>0.6875</td>\n",
       "      <td>0.728155</td>\n",
       "      <td>...</td>\n",
       "      <td>0.600</td>\n",
       "      <td>0.753846</td>\n",
       "      <td>0.912621</td>\n",
       "      <td>0.821053</td>\n",
       "      <td>0.554688</td>\n",
       "      <td>0.692308</td>\n",
       "      <td>0.776699</td>\n",
       "      <td>0.663158</td>\n",
       "      <td>0.453125</td>\n",
       "      <td>0.0</td>\n",
       "    </tr>\n",
       "    <tr>\n",
       "      <th>1</th>\n",
       "      <td>0.692308</td>\n",
       "      <td>0.681818</td>\n",
       "      <td>0.609195</td>\n",
       "      <td>0.380165</td>\n",
       "      <td>0.692308</td>\n",
       "      <td>0.681818</td>\n",
       "      <td>0.547368</td>\n",
       "      <td>0.421875</td>\n",
       "      <td>0.6250</td>\n",
       "      <td>0.728155</td>\n",
       "      <td>...</td>\n",
       "      <td>0.568</td>\n",
       "      <td>0.692308</td>\n",
       "      <td>0.776699</td>\n",
       "      <td>0.663158</td>\n",
       "      <td>0.453125</td>\n",
       "      <td>0.692308</td>\n",
       "      <td>0.699029</td>\n",
       "      <td>0.568421</td>\n",
       "      <td>0.390625</td>\n",
       "      <td>0.0</td>\n",
       "    </tr>\n",
       "    <tr>\n",
       "      <th>2</th>\n",
       "      <td>0.692308</td>\n",
       "      <td>0.681818</td>\n",
       "      <td>0.563218</td>\n",
       "      <td>0.413223</td>\n",
       "      <td>0.630769</td>\n",
       "      <td>0.681818</td>\n",
       "      <td>0.547368</td>\n",
       "      <td>0.390625</td>\n",
       "      <td>0.6875</td>\n",
       "      <td>0.650485</td>\n",
       "      <td>...</td>\n",
       "      <td>0.464</td>\n",
       "      <td>0.692308</td>\n",
       "      <td>0.699029</td>\n",
       "      <td>0.568421</td>\n",
       "      <td>0.390625</td>\n",
       "      <td>0.692308</td>\n",
       "      <td>0.699029</td>\n",
       "      <td>0.568421</td>\n",
       "      <td>0.390625</td>\n",
       "      <td>0.0</td>\n",
       "    </tr>\n",
       "    <tr>\n",
       "      <th>3</th>\n",
       "      <td>0.630769</td>\n",
       "      <td>0.681818</td>\n",
       "      <td>0.563218</td>\n",
       "      <td>0.380165</td>\n",
       "      <td>0.692308</td>\n",
       "      <td>0.609091</td>\n",
       "      <td>0.547368</td>\n",
       "      <td>0.390625</td>\n",
       "      <td>0.6250</td>\n",
       "      <td>0.650485</td>\n",
       "      <td>...</td>\n",
       "      <td>0.400</td>\n",
       "      <td>0.692308</td>\n",
       "      <td>0.699029</td>\n",
       "      <td>0.568421</td>\n",
       "      <td>0.390625</td>\n",
       "      <td>0.692308</td>\n",
       "      <td>0.737864</td>\n",
       "      <td>0.568421</td>\n",
       "      <td>0.390625</td>\n",
       "      <td>0.0</td>\n",
       "    </tr>\n",
       "    <tr>\n",
       "      <th>4</th>\n",
       "      <td>0.692308</td>\n",
       "      <td>0.609091</td>\n",
       "      <td>0.563218</td>\n",
       "      <td>0.380165</td>\n",
       "      <td>0.630769</td>\n",
       "      <td>0.609091</td>\n",
       "      <td>0.505263</td>\n",
       "      <td>0.367188</td>\n",
       "      <td>0.6250</td>\n",
       "      <td>0.728155</td>\n",
       "      <td>...</td>\n",
       "      <td>0.400</td>\n",
       "      <td>0.692308</td>\n",
       "      <td>0.737864</td>\n",
       "      <td>0.568421</td>\n",
       "      <td>0.390625</td>\n",
       "      <td>0.615385</td>\n",
       "      <td>0.776699</td>\n",
       "      <td>0.621053</td>\n",
       "      <td>0.453125</td>\n",
       "      <td>0.0</td>\n",
       "    </tr>\n",
       "  </tbody>\n",
       "</table>\n",
       "<p>5 rows × 37 columns</p>\n",
       "</div>"
      ],
      "text/plain": [
       "          0         1         2         3         4         5         6  \\\n",
       "0  0.815385  0.800000  0.770115  0.504132  0.692308  0.681818  0.589474   \n",
       "1  0.692308  0.681818  0.609195  0.380165  0.692308  0.681818  0.547368   \n",
       "2  0.692308  0.681818  0.563218  0.413223  0.630769  0.681818  0.547368   \n",
       "3  0.630769  0.681818  0.563218  0.380165  0.692308  0.609091  0.547368   \n",
       "4  0.692308  0.609091  0.563218  0.380165  0.630769  0.609091  0.505263   \n",
       "\n",
       "          7       8         9  ...     27        28        29        30  \\\n",
       "0  0.390625  0.6875  0.728155  ...  0.600  0.753846  0.912621  0.821053   \n",
       "1  0.421875  0.6250  0.728155  ...  0.568  0.692308  0.776699  0.663158   \n",
       "2  0.390625  0.6875  0.650485  ...  0.464  0.692308  0.699029  0.568421   \n",
       "3  0.390625  0.6250  0.650485  ...  0.400  0.692308  0.699029  0.568421   \n",
       "4  0.367188  0.6250  0.728155  ...  0.400  0.692308  0.737864  0.568421   \n",
       "\n",
       "         31        32        33        34        35  anomaly  \n",
       "0  0.554688  0.692308  0.776699  0.663158  0.453125      0.0  \n",
       "1  0.453125  0.692308  0.699029  0.568421  0.390625      0.0  \n",
       "2  0.390625  0.692308  0.699029  0.568421  0.390625      0.0  \n",
       "3  0.390625  0.692308  0.737864  0.568421  0.390625      0.0  \n",
       "4  0.390625  0.615385  0.776699  0.621053  0.453125      0.0  \n",
       "\n",
       "[5 rows x 37 columns]"
      ]
     },
     "execution_count": 10,
     "metadata": {},
     "output_type": "execute_result"
    }
   ],
   "source": [
    "df_scaled.head()"
   ]
  },
  {
   "cell_type": "code",
   "execution_count": 11,
   "metadata": {},
   "outputs": [],
   "source": [
    "df_anomalies = df_scaled[df_scaled['anomaly'] == 1]\n",
    "df_anomalies = df_anomalies[df_anomalies.columns[:-1]]"
   ]
  },
  {
   "cell_type": "code",
   "execution_count": 12,
   "metadata": {},
   "outputs": [
    {
     "data": {
      "text/html": [
       "<div>\n",
       "<style scoped>\n",
       "    .dataframe tbody tr th:only-of-type {\n",
       "        vertical-align: middle;\n",
       "    }\n",
       "\n",
       "    .dataframe tbody tr th {\n",
       "        vertical-align: top;\n",
       "    }\n",
       "\n",
       "    .dataframe thead th {\n",
       "        text-align: right;\n",
       "    }\n",
       "</style>\n",
       "<table border=\"1\" class=\"dataframe\">\n",
       "  <thead>\n",
       "    <tr style=\"text-align: right;\">\n",
       "      <th></th>\n",
       "      <th>0</th>\n",
       "      <th>1</th>\n",
       "      <th>2</th>\n",
       "      <th>3</th>\n",
       "      <th>4</th>\n",
       "      <th>5</th>\n",
       "      <th>6</th>\n",
       "      <th>7</th>\n",
       "      <th>8</th>\n",
       "      <th>9</th>\n",
       "      <th>...</th>\n",
       "      <th>26</th>\n",
       "      <th>27</th>\n",
       "      <th>28</th>\n",
       "      <th>29</th>\n",
       "      <th>30</th>\n",
       "      <th>31</th>\n",
       "      <th>32</th>\n",
       "      <th>33</th>\n",
       "      <th>34</th>\n",
       "      <th>35</th>\n",
       "    </tr>\n",
       "  </thead>\n",
       "  <tbody>\n",
       "    <tr>\n",
       "      <th>8</th>\n",
       "      <td>0.569231</td>\n",
       "      <td>0.563636</td>\n",
       "      <td>0.517241</td>\n",
       "      <td>0.355372</td>\n",
       "      <td>0.569231</td>\n",
       "      <td>0.609091</td>\n",
       "      <td>0.505263</td>\n",
       "      <td>0.367188</td>\n",
       "      <td>0.5625</td>\n",
       "      <td>0.689320</td>\n",
       "      <td>...</td>\n",
       "      <td>0.511111</td>\n",
       "      <td>0.368</td>\n",
       "      <td>0.553846</td>\n",
       "      <td>0.621359</td>\n",
       "      <td>0.484211</td>\n",
       "      <td>0.328125</td>\n",
       "      <td>0.615385</td>\n",
       "      <td>0.582524</td>\n",
       "      <td>0.452632</td>\n",
       "      <td>0.328125</td>\n",
       "    </tr>\n",
       "    <tr>\n",
       "      <th>9</th>\n",
       "      <td>0.569231</td>\n",
       "      <td>0.609091</td>\n",
       "      <td>0.517241</td>\n",
       "      <td>0.355372</td>\n",
       "      <td>0.569231</td>\n",
       "      <td>0.645455</td>\n",
       "      <td>0.547368</td>\n",
       "      <td>0.335938</td>\n",
       "      <td>0.5625</td>\n",
       "      <td>0.650485</td>\n",
       "      <td>...</td>\n",
       "      <td>0.511111</td>\n",
       "      <td>0.336</td>\n",
       "      <td>0.615385</td>\n",
       "      <td>0.582524</td>\n",
       "      <td>0.452632</td>\n",
       "      <td>0.328125</td>\n",
       "      <td>0.615385</td>\n",
       "      <td>0.582524</td>\n",
       "      <td>0.452632</td>\n",
       "      <td>0.296875</td>\n",
       "    </tr>\n",
       "    <tr>\n",
       "      <th>10</th>\n",
       "      <td>0.569231</td>\n",
       "      <td>0.645455</td>\n",
       "      <td>0.563218</td>\n",
       "      <td>0.322314</td>\n",
       "      <td>0.569231</td>\n",
       "      <td>0.609091</td>\n",
       "      <td>0.421053</td>\n",
       "      <td>0.367188</td>\n",
       "      <td>0.5625</td>\n",
       "      <td>0.601942</td>\n",
       "      <td>...</td>\n",
       "      <td>0.477778</td>\n",
       "      <td>0.336</td>\n",
       "      <td>0.615385</td>\n",
       "      <td>0.582524</td>\n",
       "      <td>0.452632</td>\n",
       "      <td>0.296875</td>\n",
       "      <td>0.553846</td>\n",
       "      <td>0.582524</td>\n",
       "      <td>0.484211</td>\n",
       "      <td>0.328125</td>\n",
       "    </tr>\n",
       "    <tr>\n",
       "      <th>11</th>\n",
       "      <td>0.507692</td>\n",
       "      <td>0.609091</td>\n",
       "      <td>0.425287</td>\n",
       "      <td>0.322314</td>\n",
       "      <td>0.507692</td>\n",
       "      <td>0.563636</td>\n",
       "      <td>0.463158</td>\n",
       "      <td>0.367188</td>\n",
       "      <td>0.5000</td>\n",
       "      <td>0.601942</td>\n",
       "      <td>...</td>\n",
       "      <td>0.511111</td>\n",
       "      <td>0.336</td>\n",
       "      <td>0.553846</td>\n",
       "      <td>0.582524</td>\n",
       "      <td>0.452632</td>\n",
       "      <td>0.296875</td>\n",
       "      <td>0.492308</td>\n",
       "      <td>0.582524</td>\n",
       "      <td>0.410526</td>\n",
       "      <td>0.296875</td>\n",
       "    </tr>\n",
       "    <tr>\n",
       "      <th>12</th>\n",
       "      <td>0.507692</td>\n",
       "      <td>0.563636</td>\n",
       "      <td>0.471264</td>\n",
       "      <td>0.355372</td>\n",
       "      <td>0.507692</td>\n",
       "      <td>0.563636</td>\n",
       "      <td>0.505263</td>\n",
       "      <td>0.367188</td>\n",
       "      <td>0.5625</td>\n",
       "      <td>0.650485</td>\n",
       "      <td>...</td>\n",
       "      <td>0.477778</td>\n",
       "      <td>0.304</td>\n",
       "      <td>0.492308</td>\n",
       "      <td>0.582524</td>\n",
       "      <td>0.410526</td>\n",
       "      <td>0.296875</td>\n",
       "      <td>0.492308</td>\n",
       "      <td>0.504854</td>\n",
       "      <td>0.326316</td>\n",
       "      <td>0.257812</td>\n",
       "    </tr>\n",
       "  </tbody>\n",
       "</table>\n",
       "<p>5 rows × 36 columns</p>\n",
       "</div>"
      ],
      "text/plain": [
       "           0         1         2         3         4         5         6  \\\n",
       "8   0.569231  0.563636  0.517241  0.355372  0.569231  0.609091  0.505263   \n",
       "9   0.569231  0.609091  0.517241  0.355372  0.569231  0.645455  0.547368   \n",
       "10  0.569231  0.645455  0.563218  0.322314  0.569231  0.609091  0.421053   \n",
       "11  0.507692  0.609091  0.425287  0.322314  0.507692  0.563636  0.463158   \n",
       "12  0.507692  0.563636  0.471264  0.355372  0.507692  0.563636  0.505263   \n",
       "\n",
       "           7       8         9  ...        26     27        28        29  \\\n",
       "8   0.367188  0.5625  0.689320  ...  0.511111  0.368  0.553846  0.621359   \n",
       "9   0.335938  0.5625  0.650485  ...  0.511111  0.336  0.615385  0.582524   \n",
       "10  0.367188  0.5625  0.601942  ...  0.477778  0.336  0.615385  0.582524   \n",
       "11  0.367188  0.5000  0.601942  ...  0.511111  0.336  0.553846  0.582524   \n",
       "12  0.367188  0.5625  0.650485  ...  0.477778  0.304  0.492308  0.582524   \n",
       "\n",
       "          30        31        32        33        34        35  \n",
       "8   0.484211  0.328125  0.615385  0.582524  0.452632  0.328125  \n",
       "9   0.452632  0.328125  0.615385  0.582524  0.452632  0.296875  \n",
       "10  0.452632  0.296875  0.553846  0.582524  0.484211  0.328125  \n",
       "11  0.452632  0.296875  0.492308  0.582524  0.410526  0.296875  \n",
       "12  0.410526  0.296875  0.492308  0.504854  0.326316  0.257812  \n",
       "\n",
       "[5 rows x 36 columns]"
      ]
     },
     "execution_count": 12,
     "metadata": {},
     "output_type": "execute_result"
    }
   ],
   "source": [
    "df_anomalies.head()"
   ]
  },
  {
   "cell_type": "code",
   "execution_count": 13,
   "metadata": {},
   "outputs": [],
   "source": [
    "df_no_anomalies = df_scaled[df_scaled['anomaly'] == 0]\n",
    "df_no_anomalies = df_no_anomalies[df_no_anomalies.columns[:-1]]"
   ]
  },
  {
   "cell_type": "code",
   "execution_count": 14,
   "metadata": {},
   "outputs": [
    {
     "data": {
      "text/html": [
       "<div>\n",
       "<style scoped>\n",
       "    .dataframe tbody tr th:only-of-type {\n",
       "        vertical-align: middle;\n",
       "    }\n",
       "\n",
       "    .dataframe tbody tr th {\n",
       "        vertical-align: top;\n",
       "    }\n",
       "\n",
       "    .dataframe thead th {\n",
       "        text-align: right;\n",
       "    }\n",
       "</style>\n",
       "<table border=\"1\" class=\"dataframe\">\n",
       "  <thead>\n",
       "    <tr style=\"text-align: right;\">\n",
       "      <th></th>\n",
       "      <th>0</th>\n",
       "      <th>1</th>\n",
       "      <th>2</th>\n",
       "      <th>3</th>\n",
       "      <th>4</th>\n",
       "      <th>5</th>\n",
       "      <th>6</th>\n",
       "      <th>7</th>\n",
       "      <th>8</th>\n",
       "      <th>9</th>\n",
       "      <th>...</th>\n",
       "      <th>26</th>\n",
       "      <th>27</th>\n",
       "      <th>28</th>\n",
       "      <th>29</th>\n",
       "      <th>30</th>\n",
       "      <th>31</th>\n",
       "      <th>32</th>\n",
       "      <th>33</th>\n",
       "      <th>34</th>\n",
       "      <th>35</th>\n",
       "    </tr>\n",
       "  </thead>\n",
       "  <tbody>\n",
       "    <tr>\n",
       "      <th>0</th>\n",
       "      <td>0.815385</td>\n",
       "      <td>0.800000</td>\n",
       "      <td>0.770115</td>\n",
       "      <td>0.504132</td>\n",
       "      <td>0.692308</td>\n",
       "      <td>0.681818</td>\n",
       "      <td>0.589474</td>\n",
       "      <td>0.390625</td>\n",
       "      <td>0.6875</td>\n",
       "      <td>0.728155</td>\n",
       "      <td>...</td>\n",
       "      <td>0.933333</td>\n",
       "      <td>0.600</td>\n",
       "      <td>0.753846</td>\n",
       "      <td>0.912621</td>\n",
       "      <td>0.821053</td>\n",
       "      <td>0.554688</td>\n",
       "      <td>0.692308</td>\n",
       "      <td>0.776699</td>\n",
       "      <td>0.663158</td>\n",
       "      <td>0.453125</td>\n",
       "    </tr>\n",
       "    <tr>\n",
       "      <th>1</th>\n",
       "      <td>0.692308</td>\n",
       "      <td>0.681818</td>\n",
       "      <td>0.609195</td>\n",
       "      <td>0.380165</td>\n",
       "      <td>0.692308</td>\n",
       "      <td>0.681818</td>\n",
       "      <td>0.547368</td>\n",
       "      <td>0.421875</td>\n",
       "      <td>0.6250</td>\n",
       "      <td>0.728155</td>\n",
       "      <td>...</td>\n",
       "      <td>0.866667</td>\n",
       "      <td>0.568</td>\n",
       "      <td>0.692308</td>\n",
       "      <td>0.776699</td>\n",
       "      <td>0.663158</td>\n",
       "      <td>0.453125</td>\n",
       "      <td>0.692308</td>\n",
       "      <td>0.699029</td>\n",
       "      <td>0.568421</td>\n",
       "      <td>0.390625</td>\n",
       "    </tr>\n",
       "    <tr>\n",
       "      <th>2</th>\n",
       "      <td>0.692308</td>\n",
       "      <td>0.681818</td>\n",
       "      <td>0.563218</td>\n",
       "      <td>0.413223</td>\n",
       "      <td>0.630769</td>\n",
       "      <td>0.681818</td>\n",
       "      <td>0.547368</td>\n",
       "      <td>0.390625</td>\n",
       "      <td>0.6875</td>\n",
       "      <td>0.650485</td>\n",
       "      <td>...</td>\n",
       "      <td>0.700000</td>\n",
       "      <td>0.464</td>\n",
       "      <td>0.692308</td>\n",
       "      <td>0.699029</td>\n",
       "      <td>0.568421</td>\n",
       "      <td>0.390625</td>\n",
       "      <td>0.692308</td>\n",
       "      <td>0.699029</td>\n",
       "      <td>0.568421</td>\n",
       "      <td>0.390625</td>\n",
       "    </tr>\n",
       "    <tr>\n",
       "      <th>3</th>\n",
       "      <td>0.630769</td>\n",
       "      <td>0.681818</td>\n",
       "      <td>0.563218</td>\n",
       "      <td>0.380165</td>\n",
       "      <td>0.692308</td>\n",
       "      <td>0.609091</td>\n",
       "      <td>0.547368</td>\n",
       "      <td>0.390625</td>\n",
       "      <td>0.6250</td>\n",
       "      <td>0.650485</td>\n",
       "      <td>...</td>\n",
       "      <td>0.600000</td>\n",
       "      <td>0.400</td>\n",
       "      <td>0.692308</td>\n",
       "      <td>0.699029</td>\n",
       "      <td>0.568421</td>\n",
       "      <td>0.390625</td>\n",
       "      <td>0.692308</td>\n",
       "      <td>0.737864</td>\n",
       "      <td>0.568421</td>\n",
       "      <td>0.390625</td>\n",
       "    </tr>\n",
       "    <tr>\n",
       "      <th>4</th>\n",
       "      <td>0.692308</td>\n",
       "      <td>0.609091</td>\n",
       "      <td>0.563218</td>\n",
       "      <td>0.380165</td>\n",
       "      <td>0.630769</td>\n",
       "      <td>0.609091</td>\n",
       "      <td>0.505263</td>\n",
       "      <td>0.367188</td>\n",
       "      <td>0.6250</td>\n",
       "      <td>0.728155</td>\n",
       "      <td>...</td>\n",
       "      <td>0.600000</td>\n",
       "      <td>0.400</td>\n",
       "      <td>0.692308</td>\n",
       "      <td>0.737864</td>\n",
       "      <td>0.568421</td>\n",
       "      <td>0.390625</td>\n",
       "      <td>0.615385</td>\n",
       "      <td>0.776699</td>\n",
       "      <td>0.621053</td>\n",
       "      <td>0.453125</td>\n",
       "    </tr>\n",
       "  </tbody>\n",
       "</table>\n",
       "<p>5 rows × 36 columns</p>\n",
       "</div>"
      ],
      "text/plain": [
       "          0         1         2         3         4         5         6  \\\n",
       "0  0.815385  0.800000  0.770115  0.504132  0.692308  0.681818  0.589474   \n",
       "1  0.692308  0.681818  0.609195  0.380165  0.692308  0.681818  0.547368   \n",
       "2  0.692308  0.681818  0.563218  0.413223  0.630769  0.681818  0.547368   \n",
       "3  0.630769  0.681818  0.563218  0.380165  0.692308  0.609091  0.547368   \n",
       "4  0.692308  0.609091  0.563218  0.380165  0.630769  0.609091  0.505263   \n",
       "\n",
       "          7       8         9  ...        26     27        28        29  \\\n",
       "0  0.390625  0.6875  0.728155  ...  0.933333  0.600  0.753846  0.912621   \n",
       "1  0.421875  0.6250  0.728155  ...  0.866667  0.568  0.692308  0.776699   \n",
       "2  0.390625  0.6875  0.650485  ...  0.700000  0.464  0.692308  0.699029   \n",
       "3  0.390625  0.6250  0.650485  ...  0.600000  0.400  0.692308  0.699029   \n",
       "4  0.367188  0.6250  0.728155  ...  0.600000  0.400  0.692308  0.737864   \n",
       "\n",
       "         30        31        32        33        34        35  \n",
       "0  0.821053  0.554688  0.692308  0.776699  0.663158  0.453125  \n",
       "1  0.663158  0.453125  0.692308  0.699029  0.568421  0.390625  \n",
       "2  0.568421  0.390625  0.692308  0.699029  0.568421  0.390625  \n",
       "3  0.568421  0.390625  0.692308  0.737864  0.568421  0.390625  \n",
       "4  0.568421  0.390625  0.615385  0.776699  0.621053  0.453125  \n",
       "\n",
       "[5 rows x 36 columns]"
      ]
     },
     "execution_count": 14,
     "metadata": {},
     "output_type": "execute_result"
    }
   ],
   "source": [
    "df_no_anomalies.head()"
   ]
  },
  {
   "cell_type": "markdown",
   "metadata": {},
   "source": [
    "# Split data without anomalies into train and test dataframes"
   ]
  },
  {
   "cell_type": "code",
   "execution_count": 15,
   "metadata": {},
   "outputs": [],
   "source": [
    "split_idx = int(0.8 * len(df_no_anomalies))\n",
    "df_no_anomalies_train = df_no_anomalies.iloc[:split_idx, :]\n",
    "df_no_anomalies_test = df_no_anomalies.iloc[split_idx:, :]"
   ]
  },
  {
   "cell_type": "markdown",
   "metadata": {},
   "source": [
    "# Dataset and dataloader"
   ]
  },
  {
   "cell_type": "code",
   "execution_count": 16,
   "metadata": {},
   "outputs": [],
   "source": [
    "class SatelliteDataset(torch.utils.data.Dataset):\n",
    "    def __init__(self, features: np.ndarray):\n",
    "        super(SatelliteDataset, self).__init__()\n",
    "        self.features = features\n",
    "        \n",
    "    def __getitem__(self, idx):\n",
    "        return torch.tensor(self.features[idx, :])\n",
    "    \n",
    "    def __len__(self):\n",
    "        return self.features.shape[0]\n",
    "\n",
    "train_ds_no_anomalies = SatelliteDataset(df_no_anomalies_train.values)\n",
    "test_ds_no_anomalies = SatelliteDataset(df_no_anomalies_test.values)"
   ]
  },
  {
   "cell_type": "code",
   "execution_count": 17,
   "metadata": {},
   "outputs": [],
   "source": [
    "# Dataloaders\n",
    "train_dl_no_anomalies = torch.utils.data.DataLoader(train_ds_no_anomalies, shuffle=True, batch_size=1024, num_workers=4)\n",
    "test_dl_no_anomalies = torch.utils.data.DataLoader(test_ds_no_anomalies, shuffle=True, batch_size=1024, num_workers=4)"
   ]
  },
  {
   "cell_type": "code",
   "execution_count": 18,
   "metadata": {},
   "outputs": [
    {
     "name": "stdout",
     "output_type": "stream",
     "text": [
      "tensor([[0.4923, 0.7636, 0.8046,  ..., 0.7379, 0.6737, 0.4766],\n",
      "        [0.7846, 0.8273, 0.7931,  ..., 0.8544, 0.7263, 0.4766],\n",
      "        [0.5385, 0.5909, 0.5057,  ..., 0.7379, 0.6105, 0.4609],\n",
      "        ...,\n",
      "        [0.1692, 0.4727, 0.5057,  ..., 0.5825, 0.5684, 0.4062],\n",
      "        [0.2615, 0.3727, 0.3448,  ..., 0.4272, 0.3579, 0.3203],\n",
      "        [0.6923, 0.6909, 0.6897,  ..., 0.7476, 0.6526, 0.4688]],\n",
      "       dtype=torch.float64)\n",
      "torch.Size([1024, 36])\n"
     ]
    }
   ],
   "source": [
    "# Show first value\n",
    "for i, x in enumerate(train_dl_no_anomalies):\n",
    "    print(x)\n",
    "    print(x.shape)        \n",
    "    break"
   ]
  },
  {
   "cell_type": "markdown",
   "metadata": {},
   "source": [
    "# Build model"
   ]
  },
  {
   "cell_type": "code",
   "execution_count": 19,
   "metadata": {},
   "outputs": [],
   "source": [
    "class SatelliteAnomalyModel(nn.Module):\n",
    "    def __init__(self, in_features: int):\n",
    "        super(SatelliteAnomalyModel, self).__init__()\n",
    "        self.encoder =  nn.Sequential(\n",
    "                            nn.Linear(in_features, in_features//2),\n",
    "                            nn.ReLU(),\n",
    "                            nn.Linear(in_features//2, in_features//3),\n",
    "                            nn.ReLU(),\n",
    "                        )   \n",
    "        self.decoder = nn.Sequential(\n",
    "                            nn.Linear(in_features//3, in_features//2),\n",
    "                            nn.ReLU(),\n",
    "                            nn.Linear(in_features//2, in_features),\n",
    "                       )\n",
    "    \n",
    "    def forward(self, x):\n",
    "        x = self.encoder(x)\n",
    "        x = self.decoder(x)\n",
    "        return x\n",
    "    \n",
    "anomaly_detector = SatelliteAnomalyModel(in_features=no_features)"
   ]
  },
  {
   "cell_type": "markdown",
   "metadata": {},
   "source": [
    "# Device"
   ]
  },
  {
   "cell_type": "code",
   "execution_count": 20,
   "metadata": {},
   "outputs": [],
   "source": [
    "device = torch.device('cuda') if torch.cuda.is_available() else torch.device('cpu')"
   ]
  },
  {
   "cell_type": "code",
   "execution_count": 21,
   "metadata": {},
   "outputs": [],
   "source": [
    "anomaly_detector = anomaly_detector.to(device)"
   ]
  },
  {
   "cell_type": "markdown",
   "metadata": {},
   "source": [
    "# Optimizer"
   ]
  },
  {
   "cell_type": "code",
   "execution_count": 22,
   "metadata": {},
   "outputs": [],
   "source": [
    "optimizer = optim.SGD(anomaly_detector.parameters(), lr=1e-3)"
   ]
  },
  {
   "cell_type": "markdown",
   "metadata": {},
   "source": [
    "# Criterion"
   ]
  },
  {
   "cell_type": "code",
   "execution_count": 23,
   "metadata": {},
   "outputs": [],
   "source": [
    "criterion = nn.MSELoss()"
   ]
  },
  {
   "cell_type": "markdown",
   "metadata": {},
   "source": [
    "# Create logging container"
   ]
  },
  {
   "cell_type": "code",
   "execution_count": 24,
   "metadata": {},
   "outputs": [],
   "source": [
    "epoch_stats = {'train': [], 'test': []}"
   ]
  },
  {
   "cell_type": "markdown",
   "metadata": {},
   "source": [
    "# Train"
   ]
  },
  {
   "cell_type": "code",
   "execution_count": 25,
   "metadata": {},
   "outputs": [
    {
     "name": "stdout",
     "output_type": "stream",
     "text": [
      "---\n",
      "Epoch: 1000/12000\n",
      "Training loss: 0.6298440843820572\n",
      "Test loss: 0.14285831153392792\n",
      "---\n",
      "Epoch: 2000/12000\n",
      "Training loss: 0.10709194280207157\n",
      "Test loss: 0.024299517273902893\n",
      "---\n",
      "Epoch: 3000/12000\n",
      "Training loss: 0.056609309278428555\n",
      "Test loss: 0.014128180220723152\n",
      "---\n",
      "Epoch: 4000/12000\n",
      "Training loss: 0.052257198840379715\n",
      "Test loss: 0.013487162999808788\n",
      "---\n",
      "Epoch: 5000/12000\n",
      "Training loss: 0.05064311716705561\n",
      "Test loss: 0.01325137447565794\n",
      "---\n",
      "Epoch: 6000/12000\n",
      "Training loss: 0.04932320397347212\n",
      "Test loss: 0.013020017184317112\n",
      "---\n",
      "Epoch: 7000/12000\n",
      "Training loss: 0.04821920953691006\n",
      "Test loss: 0.012793010100722313\n",
      "---\n",
      "Epoch: 8000/12000\n",
      "Training loss: 0.04707298707216978\n",
      "Test loss: 0.012578540481626987\n",
      "---\n",
      "Epoch: 9000/12000\n",
      "Training loss: 0.046074505895376205\n",
      "Test loss: 0.012377261184155941\n",
      "---\n",
      "Epoch: 10000/12000\n",
      "Training loss: 0.04533575568348169\n",
      "Test loss: 0.012190541252493858\n",
      "---\n",
      "Epoch: 11000/12000\n",
      "Training loss: 0.0441955141723156\n",
      "Test loss: 0.01201421394944191\n",
      "---\n",
      "Epoch: 12000/12000\n",
      "Training loss: 0.043419839814305305\n",
      "Test loss: 0.011849872767925262\n",
      "---\n",
      "Finished training\n",
      "\n",
      "CPU times: user 6min 11s, sys: 15min 30s, total: 21min 42s\n",
      "Wall time: 26min 33s\n"
     ]
    }
   ],
   "source": [
    "%%time\n",
    "\n",
    "nr_epochs = 12000\n",
    "show_stats = 1000\n",
    "for epoch in range(1, nr_epochs+1):  \n",
    "    # --- Train ---\n",
    "    running_loss = 0.0\n",
    "    anomaly_detector.train()\n",
    "    for i, x in enumerate(train_dl_no_anomalies):\n",
    "        # Zero the parameter gradients\n",
    "        optimizer.zero_grad()\n",
    "\n",
    "        # Forward + backward + optimize\n",
    "        x = x.to(device, dtype=torch.float)\n",
    "        outputs = anomaly_detector(x)\n",
    "        loss = criterion(outputs, x)\n",
    "        loss.backward()\n",
    "        optimizer.step()\n",
    "        \n",
    "        # Update running stats\n",
    "        running_loss += loss.item()\n",
    "    \n",
    "    epoch_stats['train'].append(running_loss)\n",
    "    \n",
    "    # --- Test ---\n",
    "    running_loss = 0.0\n",
    "    anomaly_detector.eval()\n",
    "    for i, x in enumerate(test_dl_no_anomalies):\n",
    "        # Forward pass\n",
    "        x = x.to(device, dtype=torch.float)\n",
    "        outputs = anomaly_detector(x)\n",
    "        loss = criterion(outputs, x)\n",
    "        \n",
    "        # Update running loss\n",
    "        running_loss += loss.item()\n",
    "\n",
    "    epoch_stats['test'].append(running_loss)\n",
    "        \n",
    "    if epoch % show_stats == 0:\n",
    "        print(f'---\\nEpoch: {epoch}/{nr_epochs}')\n",
    "        print(f'Training loss: {epoch_stats[\"train\"][-1]}')\n",
    "        print(f'Test loss: {epoch_stats[\"test\"][-1]}')\n",
    "\n",
    "torch.save(anomaly_detector.state_dict(), 'anomaly_detector_weights.pth')\n",
    "print('---\\nFinished training\\n')"
   ]
  },
  {
   "cell_type": "markdown",
   "metadata": {},
   "source": [
    "# Plot losses"
   ]
  },
  {
   "cell_type": "code",
   "execution_count": 26,
   "metadata": {},
   "outputs": [
    {
     "data": {
      "image/png": "[encoded data removed]",
      "text/plain": [
       "<Figure size 576x576 with 1 Axes>"
      ]
     },
     "metadata": {
      "needs_background": "light"
     },
     "output_type": "display_data"
    }
   ],
   "source": [
    "plt.figure(figsize=(8, 8))\n",
    "plt.plot(epoch_stats['train'], color='blue', linewidth=3, label='Train')\n",
    "plt.plot(epoch_stats['test'], color='orange', linewidth=3, label='Test')\n",
    "plt.grid(True)\n",
    "plt.xlabel('Epoch', fontdict={'fontsize': 15})\n",
    "plt.ylabel('MSE', fontdict={'fontsize': 15})\n",
    "plt.title('Losses', fontdict={'fontsize': 20})\n",
    "plt.legend(fontsize=15)\n",
    "plt.show()"
   ]
  },
  {
   "cell_type": "markdown",
   "metadata": {},
   "source": [
    "# Determine anomaly threshold for data with anomalies"
   ]
  },
  {
   "cell_type": "code",
   "execution_count": 27,
   "metadata": {},
   "outputs": [],
   "source": [
    "# Let's use trained model on data with anomalies and check what is a threshold for MSE when trying to reconstruct this data..."
   ]
  },
  {
   "cell_type": "code",
   "execution_count": 28,
   "metadata": {},
   "outputs": [
    {
     "data": {
      "text/html": [
       "<div>\n",
       "<style scoped>\n",
       "    .dataframe tbody tr th:only-of-type {\n",
       "        vertical-align: middle;\n",
       "    }\n",
       "\n",
       "    .dataframe tbody tr th {\n",
       "        vertical-align: top;\n",
       "    }\n",
       "\n",
       "    .dataframe thead th {\n",
       "        text-align: right;\n",
       "    }\n",
       "</style>\n",
       "<table border=\"1\" class=\"dataframe\">\n",
       "  <thead>\n",
       "    <tr style=\"text-align: right;\">\n",
       "      <th></th>\n",
       "      <th>0</th>\n",
       "      <th>1</th>\n",
       "      <th>2</th>\n",
       "      <th>3</th>\n",
       "      <th>4</th>\n",
       "      <th>5</th>\n",
       "      <th>6</th>\n",
       "      <th>7</th>\n",
       "      <th>8</th>\n",
       "      <th>9</th>\n",
       "      <th>...</th>\n",
       "      <th>26</th>\n",
       "      <th>27</th>\n",
       "      <th>28</th>\n",
       "      <th>29</th>\n",
       "      <th>30</th>\n",
       "      <th>31</th>\n",
       "      <th>32</th>\n",
       "      <th>33</th>\n",
       "      <th>34</th>\n",
       "      <th>35</th>\n",
       "    </tr>\n",
       "  </thead>\n",
       "  <tbody>\n",
       "    <tr>\n",
       "      <th>8</th>\n",
       "      <td>0.569231</td>\n",
       "      <td>0.563636</td>\n",
       "      <td>0.517241</td>\n",
       "      <td>0.355372</td>\n",
       "      <td>0.569231</td>\n",
       "      <td>0.609091</td>\n",
       "      <td>0.505263</td>\n",
       "      <td>0.367188</td>\n",
       "      <td>0.5625</td>\n",
       "      <td>0.689320</td>\n",
       "      <td>...</td>\n",
       "      <td>0.511111</td>\n",
       "      <td>0.368</td>\n",
       "      <td>0.553846</td>\n",
       "      <td>0.621359</td>\n",
       "      <td>0.484211</td>\n",
       "      <td>0.328125</td>\n",
       "      <td>0.615385</td>\n",
       "      <td>0.582524</td>\n",
       "      <td>0.452632</td>\n",
       "      <td>0.328125</td>\n",
       "    </tr>\n",
       "    <tr>\n",
       "      <th>9</th>\n",
       "      <td>0.569231</td>\n",
       "      <td>0.609091</td>\n",
       "      <td>0.517241</td>\n",
       "      <td>0.355372</td>\n",
       "      <td>0.569231</td>\n",
       "      <td>0.645455</td>\n",
       "      <td>0.547368</td>\n",
       "      <td>0.335938</td>\n",
       "      <td>0.5625</td>\n",
       "      <td>0.650485</td>\n",
       "      <td>...</td>\n",
       "      <td>0.511111</td>\n",
       "      <td>0.336</td>\n",
       "      <td>0.615385</td>\n",
       "      <td>0.582524</td>\n",
       "      <td>0.452632</td>\n",
       "      <td>0.328125</td>\n",
       "      <td>0.615385</td>\n",
       "      <td>0.582524</td>\n",
       "      <td>0.452632</td>\n",
       "      <td>0.296875</td>\n",
       "    </tr>\n",
       "    <tr>\n",
       "      <th>10</th>\n",
       "      <td>0.569231</td>\n",
       "      <td>0.645455</td>\n",
       "      <td>0.563218</td>\n",
       "      <td>0.322314</td>\n",
       "      <td>0.569231</td>\n",
       "      <td>0.609091</td>\n",
       "      <td>0.421053</td>\n",
       "      <td>0.367188</td>\n",
       "      <td>0.5625</td>\n",
       "      <td>0.601942</td>\n",
       "      <td>...</td>\n",
       "      <td>0.477778</td>\n",
       "      <td>0.336</td>\n",
       "      <td>0.615385</td>\n",
       "      <td>0.582524</td>\n",
       "      <td>0.452632</td>\n",
       "      <td>0.296875</td>\n",
       "      <td>0.553846</td>\n",
       "      <td>0.582524</td>\n",
       "      <td>0.484211</td>\n",
       "      <td>0.328125</td>\n",
       "    </tr>\n",
       "    <tr>\n",
       "      <th>11</th>\n",
       "      <td>0.507692</td>\n",
       "      <td>0.609091</td>\n",
       "      <td>0.425287</td>\n",
       "      <td>0.322314</td>\n",
       "      <td>0.507692</td>\n",
       "      <td>0.563636</td>\n",
       "      <td>0.463158</td>\n",
       "      <td>0.367188</td>\n",
       "      <td>0.5000</td>\n",
       "      <td>0.601942</td>\n",
       "      <td>...</td>\n",
       "      <td>0.511111</td>\n",
       "      <td>0.336</td>\n",
       "      <td>0.553846</td>\n",
       "      <td>0.582524</td>\n",
       "      <td>0.452632</td>\n",
       "      <td>0.296875</td>\n",
       "      <td>0.492308</td>\n",
       "      <td>0.582524</td>\n",
       "      <td>0.410526</td>\n",
       "      <td>0.296875</td>\n",
       "    </tr>\n",
       "    <tr>\n",
       "      <th>12</th>\n",
       "      <td>0.507692</td>\n",
       "      <td>0.563636</td>\n",
       "      <td>0.471264</td>\n",
       "      <td>0.355372</td>\n",
       "      <td>0.507692</td>\n",
       "      <td>0.563636</td>\n",
       "      <td>0.505263</td>\n",
       "      <td>0.367188</td>\n",
       "      <td>0.5625</td>\n",
       "      <td>0.650485</td>\n",
       "      <td>...</td>\n",
       "      <td>0.477778</td>\n",
       "      <td>0.304</td>\n",
       "      <td>0.492308</td>\n",
       "      <td>0.582524</td>\n",
       "      <td>0.410526</td>\n",
       "      <td>0.296875</td>\n",
       "      <td>0.492308</td>\n",
       "      <td>0.504854</td>\n",
       "      <td>0.326316</td>\n",
       "      <td>0.257812</td>\n",
       "    </tr>\n",
       "  </tbody>\n",
       "</table>\n",
       "<p>5 rows × 36 columns</p>\n",
       "</div>"
      ],
      "text/plain": [
       "           0         1         2         3         4         5         6  \\\n",
       "8   0.569231  0.563636  0.517241  0.355372  0.569231  0.609091  0.505263   \n",
       "9   0.569231  0.609091  0.517241  0.355372  0.569231  0.645455  0.547368   \n",
       "10  0.569231  0.645455  0.563218  0.322314  0.569231  0.609091  0.421053   \n",
       "11  0.507692  0.609091  0.425287  0.322314  0.507692  0.563636  0.463158   \n",
       "12  0.507692  0.563636  0.471264  0.355372  0.507692  0.563636  0.505263   \n",
       "\n",
       "           7       8         9  ...        26     27        28        29  \\\n",
       "8   0.367188  0.5625  0.689320  ...  0.511111  0.368  0.553846  0.621359   \n",
       "9   0.335938  0.5625  0.650485  ...  0.511111  0.336  0.615385  0.582524   \n",
       "10  0.367188  0.5625  0.601942  ...  0.477778  0.336  0.615385  0.582524   \n",
       "11  0.367188  0.5000  0.601942  ...  0.511111  0.336  0.553846  0.582524   \n",
       "12  0.367188  0.5625  0.650485  ...  0.477778  0.304  0.492308  0.582524   \n",
       "\n",
       "          30        31        32        33        34        35  \n",
       "8   0.484211  0.328125  0.615385  0.582524  0.452632  0.328125  \n",
       "9   0.452632  0.328125  0.615385  0.582524  0.452632  0.296875  \n",
       "10  0.452632  0.296875  0.553846  0.582524  0.484211  0.328125  \n",
       "11  0.452632  0.296875  0.492308  0.582524  0.410526  0.296875  \n",
       "12  0.410526  0.296875  0.492308  0.504854  0.326316  0.257812  \n",
       "\n",
       "[5 rows x 36 columns]"
      ]
     },
     "execution_count": 28,
     "metadata": {},
     "output_type": "execute_result"
    }
   ],
   "source": [
    "df_anomalies.head()"
   ]
  },
  {
   "cell_type": "markdown",
   "metadata": {},
   "source": [
    "# Split dataset into train (to estimate threshold) and test (to test this threshold)"
   ]
  },
  {
   "cell_type": "code",
   "execution_count": 29,
   "metadata": {},
   "outputs": [],
   "source": [
    "split_idx = int(0.7 * len(df_anomalies))\n",
    "train_df_anomalies = df_anomalies[:split_idx]\n",
    "test_df_anomalies = df_anomalies[split_idx:]"
   ]
  },
  {
   "cell_type": "markdown",
   "metadata": {},
   "source": [
    "# Dataset and dataloader for data with anomalies"
   ]
  },
  {
   "cell_type": "code",
   "execution_count": 30,
   "metadata": {},
   "outputs": [],
   "source": [
    "train_ds_anomalies = SatelliteDataset(train_df_anomalies.values)\n",
    "train_dl_anomalies = torch.utils.data.DataLoader(train_ds_anomalies, batch_size=512)\n",
    "\n",
    "test_ds_anomalies = SatelliteDataset(test_df_anomalies.values)\n",
    "test_dl_anomalies = torch.utils.data.DataLoader(test_ds_anomalies, batch_size=512)"
   ]
  },
  {
   "cell_type": "markdown",
   "metadata": {},
   "source": [
    "# Create anomalies detector once again and load trained weights"
   ]
  },
  {
   "cell_type": "code",
   "execution_count": 31,
   "metadata": {},
   "outputs": [
    {
     "data": {
      "text/plain": [
       "<All keys matched successfully>"
      ]
     },
     "execution_count": 31,
     "metadata": {},
     "output_type": "execute_result"
    }
   ],
   "source": [
    "an_det = SatelliteAnomalyModel(in_features=len(df_anomalies.columns))\n",
    "an_det.load_state_dict(torch.load('anomaly_detector_weights.pth'))"
   ]
  },
  {
   "cell_type": "markdown",
   "metadata": {},
   "source": [
    "# Loop through train dataloader and get MSE"
   ]
  },
  {
   "cell_type": "code",
   "execution_count": 32,
   "metadata": {},
   "outputs": [],
   "source": [
    "an_det.to(device)\n",
    "an_det.eval()\n",
    "mse_anomalies = []\n",
    "test_crit = nn.MSELoss(reduction='none')\n",
    "for batch_id, x in enumerate(train_dl_anomalies):\n",
    "    x = x.to(device, dtype=torch.float)\n",
    "    outputs = an_det(x)\n",
    "    loss = list(test_crit(outputs, x).mean(dim=1).to('cpu').detach().numpy())\n",
    "    mse_anomalies += loss\n",
    "mse_anomalies = np.array(mse_anomalies)"
   ]
  },
  {
   "cell_type": "code",
   "execution_count": 33,
   "metadata": {},
   "outputs": [
    {
     "name": "stdout",
     "output_type": "stream",
     "text": [
      "0.0014534009\n",
      "0.25102285\n"
     ]
    }
   ],
   "source": [
    "print(mse_anomalies.min())\n",
    "print(mse_anomalies.max())"
   ]
  },
  {
   "cell_type": "code",
   "execution_count": 34,
   "metadata": {},
   "outputs": [
    {
     "data": {
      "image/png": "[encoded data removed]",
      "text/plain": [
       "<Figure size 720x576 with 1 Axes>"
      ]
     },
     "metadata": {
      "needs_background": "light"
     },
     "output_type": "display_data"
    }
   ],
   "source": [
    "plt.figure(figsize=(10, 8))\n",
    "hist_mse_anomalies, bin_edges_anomalies, patches_anomalies = plt.hist(mse_anomalies, bins=50)\n",
    "plt.grid(True)\n",
    "plt.title('Anomalies', fontdict={'fontsize': 20})\n",
    "plt.show()"
   ]
  },
  {
   "cell_type": "code",
   "execution_count": 35,
   "metadata": {},
   "outputs": [],
   "source": [
    "# Let's do it for test data without anomalies\n",
    "mse_no_anomalies = []\n",
    "for batch_id, x in enumerate(test_dl_no_anomalies):\n",
    "    x = x.to(device, dtype=torch.float)\n",
    "    outputs = an_det(x)\n",
    "    loss = list(test_crit(outputs, x).mean(dim=1).to('cpu').detach().numpy())\n",
    "    mse_no_anomalies += loss\n",
    "mse_no_anomalies = np.array(mse_no_anomalies)"
   ]
  },
  {
   "cell_type": "code",
   "execution_count": 36,
   "metadata": {},
   "outputs": [
    {
     "data": {
      "image/png": "[encoded data removed]",
      "text/plain": [
       "<Figure size 720x576 with 1 Axes>"
      ]
     },
     "metadata": {
      "needs_background": "light"
     },
     "output_type": "display_data"
    }
   ],
   "source": [
    "plt.figure(figsize=(10, 8))\n",
    "hist_mse_no_anomalies, bin_edges_no_anomalies, patches_no_anomalies = plt.hist(mse_no_anomalies, bins=50)\n",
    "plt.grid(True)\n",
    "plt.title('No anomalies', fontdict={'fontsize': 20})\n",
    "plt.show()"
   ]
  },
  {
   "cell_type": "code",
   "execution_count": 37,
   "metadata": {},
   "outputs": [
    {
     "data": {
      "image/png": "[encoded data removed]",
      "text/plain": [
       "<Figure size 720x576 with 1 Axes>"
      ]
     },
     "metadata": {
      "needs_background": "light"
     },
     "output_type": "display_data"
    }
   ],
   "source": [
    "plt.figure(figsize=(10, 8))\n",
    "plt.hist(mse_anomalies, color='red')\n",
    "plt.hist(mse_no_anomalies, color='blue')\n",
    "plt.grid(True)\n",
    "plt.show()"
   ]
  },
  {
   "cell_type": "code",
   "execution_count": 38,
   "metadata": {},
   "outputs": [],
   "source": [
    "# Hmmm, it is a little tricky problem, let's try threshold of 0.02 and see what is accuracy"
   ]
  },
  {
   "cell_type": "code",
   "execution_count": 39,
   "metadata": {},
   "outputs": [],
   "source": [
    "threshold = 0.02"
   ]
  },
  {
   "cell_type": "code",
   "execution_count": 40,
   "metadata": {},
   "outputs": [],
   "source": [
    "no_correct_classifications = 0\n",
    "for batch_id, x in enumerate(test_dl_anomalies):\n",
    "    x = x.to(device, dtype=torch.float)\n",
    "    outputs = an_det(x)\n",
    "    loss = test_crit(outputs, x).mean(dim=1).to('cpu').detach().numpy()\n",
    "    loss = loss > threshold\n",
    "    no_correct_classifications += loss.sum()"
   ]
  },
  {
   "cell_type": "code",
   "execution_count": 41,
   "metadata": {},
   "outputs": [
    {
     "name": "stdout",
     "output_type": "stream",
     "text": [
      "Accuracy: 0.4500818330605565\n"
     ]
    }
   ],
   "source": [
    "print(f'Accuracy: {no_correct_classifications / len(test_ds_anomalies)}')"
   ]
  },
  {
   "cell_type": "code",
   "execution_count": 42,
   "metadata": {},
   "outputs": [],
   "source": [
    "# Accuracy is not so good, but you have to look on figure with both distributions on the same plot.\n",
    "# All data points which are not anomalies lies between 0 - 0.05... but in the same region lies a lot of data points \n",
    "# with anomalies, so it's very hard to determine good threshold for this problem with that approach.\n",
    "# One solution might be to use deeper network which could catch some more relations between features."
   ]
  }
 ],
 "metadata": {
  "kernelspec": {
   "display_name": "Python 3",
   "language": "python",
   "name": "python3"
  },
  "language_info": {
   "codemirror_mode": {
    "name": "ipython",
    "version": 3
   },
   "file_extension": ".py",
   "mimetype": "text/x-python",
   "name": "python",
   "nbconvert_exporter": "python",
   "pygments_lexer": "ipython3",
   "version": "3.6.9"
  }
 },
 "nbformat": 4,
 "nbformat_minor": 4
}
